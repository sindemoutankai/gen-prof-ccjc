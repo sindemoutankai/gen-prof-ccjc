{
 "cells": [
  {
   "cell_type": "code",
   "execution_count": 6,
   "id": "bda149ed-cf64-4add-8283-e81b0d3f1558",
   "metadata": {},
   "outputs": [],
   "source": [
    "directory_path = \"/Users/yokoyamakai/240131_ccjcoutput/goodrating\""
   ]
  },
  {
   "cell_type": "code",
   "execution_count": 7,
   "id": "dae726c2-e218-4f6b-9dce-bb4e21aee0a7",
   "metadata": {},
   "outputs": [],
   "source": [
    "import os\n",
    "import xml.etree.ElementTree as ET\n",
    "\n",
    "def add_previous_filename_tag(directory):\n",
    "    for filename in os.listdir(directory):\n",
    "        if filename.endswith('.xml'):\n",
    "            file_path = os.path.join(directory, filename)\n",
    "            tree = ET.parse(file_path)\n",
    "            root = tree.getroot()\n",
    "\n",
    "            # ファイル名から番号を抽出\n",
    "            file_number = filename.split('_')[0]\n",
    "\n",
    "            # 新しいタグを作成\n",
    "            previous_filename_tag = ET.Element('previous_filename')\n",
    "            previous_filename_tag.text = file_number\n",
    "\n",
    "            # タグをXMLの先頭に追加\n",
    "            root.insert(0, previous_filename_tag)\n",
    "\n",
    "            # XMLファイルを上書き保存\n",
    "            tree.write(file_path, encoding='utf-8', xml_declaration=True)\n",
    "\n",
    "# この関数を実行する前に、適切なパスを設定してください\n",
    "add_previous_filename_tag(directory_path)\n"
   ]
  },
  {
   "cell_type": "code",
   "execution_count": null,
   "id": "005908f8-d9b6-40c6-b6f5-40e89365e481",
   "metadata": {},
   "outputs": [],
   "source": []
  }
 ],
 "metadata": {
  "kernelspec": {
   "display_name": "Python 3 (ipykernel)",
   "language": "python",
   "name": "python3"
  },
  "language_info": {
   "codemirror_mode": {
    "name": "ipython",
    "version": 3
   },
   "file_extension": ".py",
   "mimetype": "text/x-python",
   "name": "python",
   "nbconvert_exporter": "python",
   "pygments_lexer": "ipython3",
   "version": "3.11.6"
  }
 },
 "nbformat": 4,
 "nbformat_minor": 5
}
