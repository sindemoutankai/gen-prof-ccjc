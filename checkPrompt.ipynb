{
 "cells": [
  {
   "cell_type": "code",
   "execution_count": 1,
   "id": "e9e1cf9b-5255-4906-9ae0-d013a9a8585f",
   "metadata": {},
   "outputs": [
    {
     "data": {
      "text/plain": [
       "'/Users/yokoyamakai/gen-prof-ccjc'"
      ]
     },
     "execution_count": 1,
     "metadata": {},
     "output_type": "execute_result"
    }
   ],
   "source": [
    "pwd"
   ]
  },
  {
   "cell_type": "code",
   "execution_count": 3,
   "id": "834b0107-89d0-41e5-9fe3-a890f1beebbf",
   "metadata": {},
   "outputs": [],
   "source": [
    "import csv"
   ]
  },
  {
   "cell_type": "code",
   "execution_count": 10,
   "id": "d436651a-a181-4d8a-a8ee-dfe15c929272",
   "metadata": {},
   "outputs": [],
   "source": [
    "csv_file = 'assets/personality_list.csv'"
   ]
  },
  {
   "cell_type": "code",
   "execution_count": 11,
   "id": "c14fb4af-76e5-4c05-ae32-f700dae749b4",
   "metadata": {},
   "outputs": [
    {
     "ename": "UnicodeDecodeError",
     "evalue": "'utf-8' codec can't decode byte 0x8a in position 79: invalid start byte",
     "output_type": "error",
     "traceback": [
      "\u001b[0;31m---------------------------------------------------------------------------\u001b[0m",
      "\u001b[0;31mUnicodeDecodeError\u001b[0m                        Traceback (most recent call last)",
      "Cell \u001b[0;32mIn[11], line 3\u001b[0m\n\u001b[1;32m      1\u001b[0m \u001b[38;5;28;01mwith\u001b[39;00m \u001b[38;5;28mopen\u001b[39m(csv_file, newline\u001b[38;5;241m=\u001b[39m\u001b[38;5;124m'\u001b[39m\u001b[38;5;124m'\u001b[39m, encoding\u001b[38;5;241m=\u001b[39m\u001b[38;5;124m'\u001b[39m\u001b[38;5;124mutf-8\u001b[39m\u001b[38;5;124m'\u001b[39m) \u001b[38;5;28;01mas\u001b[39;00m file:\n\u001b[1;32m      2\u001b[0m     reader \u001b[38;5;241m=\u001b[39m csv\u001b[38;5;241m.\u001b[39mreader(file)\n\u001b[0;32m----> 3\u001b[0m \u001b[43m    \u001b[49m\u001b[38;5;28;43;01mfor\u001b[39;49;00m\u001b[43m \u001b[49m\u001b[43mi\u001b[49m\u001b[43m,\u001b[49m\u001b[43m \u001b[49m\u001b[43mrow\u001b[49m\u001b[43m \u001b[49m\u001b[38;5;129;43;01min\u001b[39;49;00m\u001b[43m \u001b[49m\u001b[38;5;28;43menumerate\u001b[39;49m\u001b[43m(\u001b[49m\u001b[43mreader\u001b[49m\u001b[43m)\u001b[49m\u001b[43m:\u001b[49m\n\u001b[1;32m      4\u001b[0m \u001b[43m        \u001b[49m\u001b[38;5;28;43mprint\u001b[39;49m\u001b[43m(\u001b[49m\u001b[43mi\u001b[49m\u001b[43m)\u001b[49m\n",
      "File \u001b[0;32m<frozen codecs>:322\u001b[0m, in \u001b[0;36mdecode\u001b[0;34m(self, input, final)\u001b[0m\n",
      "\u001b[0;31mUnicodeDecodeError\u001b[0m: 'utf-8' codec can't decode byte 0x8a in position 79: invalid start byte"
     ]
    }
   ],
   "source": [
    "with open(csv_file, newline='', encoding='utf-8') as file:\n",
    "    reader = csv.reader(file)\n",
    "    for i, row in enumerate(reader):\n",
    "        print(i)\n"
   ]
  },
  {
   "cell_type": "code",
   "execution_count": 8,
   "id": "5814e429-4d19-45cb-880c-addff6a4bdaf",
   "metadata": {},
   "outputs": [
    {
     "ename": "UnicodeDecodeError",
     "evalue": "'shift_jis' codec can't decode byte 0x84 in position 7: illegal multibyte sequence",
     "output_type": "error",
     "traceback": [
      "\u001b[0;31m---------------------------------------------------------------------------\u001b[0m",
      "\u001b[0;31mUnicodeDecodeError\u001b[0m                        Traceback (most recent call last)",
      "Cell \u001b[0;32mIn[8], line 27\u001b[0m\n\u001b[1;32m     25\u001b[0m \u001b[38;5;66;03m# 使用例\u001b[39;00m\n\u001b[1;32m     26\u001b[0m generator \u001b[38;5;241m=\u001b[39m PromptGenerator(\u001b[38;5;124m'\u001b[39m\u001b[38;5;124massets/personality_list.csv\u001b[39m\u001b[38;5;124m'\u001b[39m, \u001b[38;5;124m'\u001b[39m\u001b[38;5;124mprompt.txt\u001b[39m\u001b[38;5;124m'\u001b[39m, \u001b[38;5;124m'\u001b[39m\u001b[38;5;124massets\u001b[39m\u001b[38;5;124m'\u001b[39m)\n\u001b[0;32m---> 27\u001b[0m \u001b[43mgenerator\u001b[49m\u001b[38;5;241;43m.\u001b[39;49m\u001b[43mgenerate_prompt_files\u001b[49m\u001b[43m(\u001b[49m\u001b[43m)\u001b[49m\n",
      "Cell \u001b[0;32mIn[8], line 14\u001b[0m, in \u001b[0;36mPromptGenerator.generate_prompt_files\u001b[0;34m(self)\u001b[0m\n\u001b[1;32m     13\u001b[0m \u001b[38;5;28;01mdef\u001b[39;00m \u001b[38;5;21mgenerate_prompt_files\u001b[39m(\u001b[38;5;28mself\u001b[39m):\n\u001b[0;32m---> 14\u001b[0m     template \u001b[38;5;241m=\u001b[39m \u001b[38;5;28;43mself\u001b[39;49m\u001b[38;5;241;43m.\u001b[39;49m\u001b[43mread_prompt\u001b[49m\u001b[43m(\u001b[49m\u001b[43m)\u001b[49m\n\u001b[1;32m     15\u001b[0m     \u001b[38;5;28;01mwith\u001b[39;00m \u001b[38;5;28mopen\u001b[39m(\u001b[38;5;28mself\u001b[39m\u001b[38;5;241m.\u001b[39mcsv_file, \u001b[38;5;124m'\u001b[39m\u001b[38;5;124mr\u001b[39m\u001b[38;5;124m'\u001b[39m, encoding\u001b[38;5;241m=\u001b[39m \u001b[38;5;124m\"\u001b[39m\u001b[38;5;124mutf-8\u001b[39m\u001b[38;5;124m\"\u001b[39m) \u001b[38;5;28;01mas\u001b[39;00m csvfile:\n\u001b[1;32m     16\u001b[0m         reader \u001b[38;5;241m=\u001b[39m csv\u001b[38;5;241m.\u001b[39mreader(csvfile)\n",
      "Cell \u001b[0;32mIn[8], line 11\u001b[0m, in \u001b[0;36mPromptGenerator.read_prompt\u001b[0;34m(self)\u001b[0m\n\u001b[1;32m      9\u001b[0m \u001b[38;5;28;01mdef\u001b[39;00m \u001b[38;5;21mread_prompt\u001b[39m(\u001b[38;5;28mself\u001b[39m):\n\u001b[1;32m     10\u001b[0m     \u001b[38;5;28;01mwith\u001b[39;00m \u001b[38;5;28mopen\u001b[39m(\u001b[38;5;28mself\u001b[39m\u001b[38;5;241m.\u001b[39mprompt_file, \u001b[38;5;124m'\u001b[39m\u001b[38;5;124mr\u001b[39m\u001b[38;5;124m'\u001b[39m, encoding\u001b[38;5;241m=\u001b[39m\u001b[38;5;124m'\u001b[39m\u001b[38;5;124mshift-jis\u001b[39m\u001b[38;5;124m'\u001b[39m) \u001b[38;5;28;01mas\u001b[39;00m file:\n\u001b[0;32m---> 11\u001b[0m         \u001b[38;5;28;01mreturn\u001b[39;00m \u001b[43mfile\u001b[49m\u001b[38;5;241;43m.\u001b[39;49m\u001b[43mread\u001b[49m\u001b[43m(\u001b[49m\u001b[43m)\u001b[49m\n",
      "\u001b[0;31mUnicodeDecodeError\u001b[0m: 'shift_jis' codec can't decode byte 0x84 in position 7: illegal multibyte sequence"
     ]
    }
   ],
   "source": [
    "import csv\n",
    "\n",
    "class PromptGenerator:\n",
    "    def __init__(self, csv_file, prompt_file, output_folder):\n",
    "        self.csv_file = csv_file\n",
    "        self.prompt_file = prompt_file\n",
    "        self.output_folder = output_folder\n",
    "\n",
    "    def read_prompt(self):\n",
    "        with open(self.prompt_file, 'r', encoding='shift-jis') as file:\n",
    "            return file.read()\n",
    "\n",
    "    def generate_prompt_files(self):\n",
    "        template = self.read_prompt()\n",
    "        with open(self.csv_file, 'r', encoding= \"utf-8\") as csvfile:\n",
    "            reader = csv.reader(csvfile)\n",
    "            for i, row in enumerate(reader):\n",
    "                score = row[2:]\n",
    "                print(score)\n",
    "                new_prompt = template.format(*score)\n",
    "                file_name = f'{self.output_folder}/{row[0]}_{row[1]}_prompt.txt'\n",
    "                with open(file_name, 'w', encoding= \"utf-8\") as outfile:\n",
    "                    outfile.write(new_prompt)\n",
    "\n",
    "generator = PromptGenerator('assets/personality_list.csv', 'prompt.txt', 'assets')\n",
    "generator.generate_prompt_files()\n"
   ]
  },
  {
   "cell_type": "code",
   "execution_count": 46,
   "id": "6302748a-69a3-4180-bdd2-015fb356451c",
   "metadata": {
    "scrolled": true
   },
   "outputs": [
    {
     "name": "stdout",
     "output_type": "stream",
     "text": [
      "['Type', 'key', 'Score 1', 'Score 2', 'Score 3', 'Score 4', 'Score 5', 'Pesonality']\n",
      "['A', '1', '30', '60', '50', '40', '70', '意地っ張り']\n",
      "['A', '2', '50', '50', '70', '40', '30', '図太い']\n",
      "['A', '3', '70', '80', '85', '60', '40', '勇敢']\n",
      "['A', '4', '40', '90', '60', '70', '40', '頑張り屋']\n",
      "['A', '5', '50', '50', '65', '35', '60', '生意気']\n",
      "['B', '1', '40', '80', '30', '70', '50', '慎重']\n",
      "['B', '2', '40', '70', '25', '80', '60', 'おとなしい']\n",
      "['B', '3', '35', '75', '20', '85', '55', '控え目']\n",
      "['B', '4', '45', '95', '40', '80', '35', '真面目']\n",
      "['B', '5', '30', '60', '20', '70', '75', '臆病']\n",
      "['B', '6', '55', '80', '45', '75', '40', '冷静']\n",
      "['C', '1', '50', '70', '40', '90', '30', '穏やか']\n",
      "['C', '2', '60', '75', '60', '85', '40', '素直']\n",
      "['C', '3', '70', '50', '80', '65', '20', '能天気']\n",
      "['C', '4', '55', '65', '30', '85', '35', 'おっとり']\n",
      "['C', '5', '65', '55', '75', '70', '25', '呑気']\n",
      "['D', '1', '80', '60', '90', '70', '20', '陽気']\n",
      "['D', '2', '40', '75', '70', '50', '65', 'せっかち']\n",
      "['D', '3', '60', '50', '85', '55', '45', 'わんぱく']\n",
      "['D', '4', '45', '40', '65', '60', '55', 'うっかりや']\n",
      "['D', '5', '65', '50', '80', '55', '50', 'やんちゃ']\n",
      "['E', '1', '35', '50', '40', '65', '70', '寂しがりや']\n",
      "['E', '2', '75', '55', '85', '75', '30', '無邪気']\n",
      "['E', '3', '40', '65', '30', '80', '60', '照れ屋']\n",
      "['E', '4', '70', '40', '65', '55', '50', '気まぐれ']\n"
     ]
    }
   ],
   "source": [
    "import unicodecsv\n",
    "\n",
    "f = open(csv_file,\"rb\")\n",
    "\n",
    "r = unicodecsv.reader(f, encoding='shift-jis')\n",
    "\n",
    "for row in r:\n",
    "    print(row)\n"
   ]
  },
  {
   "cell_type": "code",
   "execution_count": 48,
   "id": "bc8c6f84-28e4-4c9f-8f95-6e0ae99b8ffe",
   "metadata": {},
   "outputs": [
    {
     "name": "stdout",
     "output_type": "stream",
     "text": [
      "['Score 1', 'Score 2', 'Score 3', 'Score 4', 'Score 5', 'Pesonality']\n",
      "['30', '60', '50', '40', '70', '意地っ張り']\n",
      "['50', '50', '70', '40', '30', '図太い']\n",
      "['70', '80', '85', '60', '40', '勇敢']\n",
      "['40', '90', '60', '70', '40', '頑張り屋']\n",
      "['50', '50', '65', '35', '60', '生意気']\n",
      "['40', '80', '30', '70', '50', '慎重']\n",
      "['40', '70', '25', '80', '60', 'おとなしい']\n",
      "['35', '75', '20', '85', '55', '控え目']\n",
      "['45', '95', '40', '80', '35', '真面目']\n",
      "['30', '60', '20', '70', '75', '臆病']\n",
      "['55', '80', '45', '75', '40', '冷静']\n",
      "['50', '70', '40', '90', '30', '穏やか']\n",
      "['60', '75', '60', '85', '40', '素直']\n",
      "['70', '50', '80', '65', '20', '能天気']\n",
      "['55', '65', '30', '85', '35', 'おっとり']\n",
      "['65', '55', '75', '70', '25', '呑気']\n",
      "['80', '60', '90', '70', '20', '陽気']\n",
      "['40', '75', '70', '50', '65', 'せっかち']\n",
      "['60', '50', '85', '55', '45', 'わんぱく']\n",
      "['45', '40', '65', '60', '55', 'うっかりや']\n",
      "['65', '50', '80', '55', '50', 'やんちゃ']\n",
      "['35', '50', '40', '65', '70', '寂しがりや']\n",
      "['75', '55', '85', '75', '30', '無邪気']\n",
      "['40', '65', '30', '80', '60', '照れ屋']\n",
      "['70', '40', '65', '55', '50', '気まぐれ']\n"
     ]
    }
   ],
   "source": [
    "import csv\n",
    "\n",
    "class PromptGenerator:\n",
    "    def __init__(self, csv_file, prompt_file, output_folder):\n",
    "        self.csv_file = csv_file\n",
    "        self.prompt_file = prompt_file\n",
    "        self.output_folder = output_folder\n",
    "\n",
    "    def read_prompt(self):\n",
    "        with open(self.prompt_file, 'r') as file:\n",
    "            return file.read()\n",
    "\n",
    "    def generate_prompt_files(self):\n",
    "        template = self.read_prompt()\n",
    "        with open(self.csv_file, 'rb') as csvfile:\n",
    "            reader = unicodecsv.reader(csvfile,encoding='shift-jis')\n",
    "            for i, row in enumerate(reader):\n",
    "                score = row[2:]\n",
    "                print(score)\n",
    "                new_prompt = template.format(*score)\n",
    "                file_name = f'{self.output_folder}/{row[0]}_{row[1]}_prompt.txt'\n",
    "                with open(file_name, 'w') as outfile:\n",
    "                    outfile.write(new_prompt)\n",
    "\n",
    "generator = PromptGenerator('assets/personality_list.csv', 'prompt.txt', 'assets')\n",
    "generator.generate_prompt_files()\n"
   ]
  },
  {
   "cell_type": "code",
   "execution_count": null,
   "id": "f26fbfee-2c44-4986-8148-7faf1cd34386",
   "metadata": {},
   "outputs": [],
   "source": []
  }
 ],
 "metadata": {
  "kernelspec": {
   "display_name": "Python 3 (ipykernel)",
   "language": "python",
   "name": "python3"
  },
  "language_info": {
   "codemirror_mode": {
    "name": "ipython",
    "version": 3
   },
   "file_extension": ".py",
   "mimetype": "text/x-python",
   "name": "python",
   "nbconvert_exporter": "python",
   "pygments_lexer": "ipython3",
   "version": "3.11.6"
  }
 },
 "nbformat": 4,
 "nbformat_minor": 5
}
