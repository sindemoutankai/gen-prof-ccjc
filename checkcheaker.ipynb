{
 "cells": [
  {
   "cell_type": "code",
   "execution_count": 2,
   "id": "1c42d9d7-5d11-42c3-ba18-3060046709d6",
   "metadata": {},
   "outputs": [
    {
     "name": "stdout",
     "output_type": "stream",
     "text": [
      "\u001b[33mWarning:\u001b[0m mecab 0.996 is already installed and up-to-date.\n",
      "To reinstall 0.996, run:\n",
      "  brew reinstall mecab\n",
      "\u001b[34m==>\u001b[0m \u001b[1mDownloading https://ghcr.io/v2/homebrew/core/mecab-ipadic/manifests/2.7.0-20\u001b[0m\n",
      "######################################################################### 100.0%\n",
      "\u001b[32m==>\u001b[0m \u001b[1mFetching \u001b[32mmecab-ipadic\u001b[39m\u001b[0m\n",
      "\u001b[34m==>\u001b[0m \u001b[1mDownloading https://ghcr.io/v2/homebrew/core/mecab-ipadic/blobs/sha256:fd420\u001b[0m\n",
      "######################################################################### 100.0%\n",
      "\u001b[34m==>\u001b[0m \u001b[1mPouring mecab-ipadic--2.7.0-20070801.ventura.bottle.tar.gz\u001b[0m\n",
      "\u001b[34m==>\u001b[0m \u001b[1mCaveats\u001b[0m\n",
      "To enable mecab-ipadic dictionary, add to /usr/local/etc/mecabrc:\n",
      "  dicdir = /usr/local/lib/mecab/dic/ipadic\n",
      "\u001b[34m==>\u001b[0m \u001b[1mSummary\u001b[0m\n",
      "🍺  /usr/local/Cellar/mecab-ipadic/2.7.0-20070801: 14 files, 50.6MB\n",
      "\u001b[34m==>\u001b[0m \u001b[1mRunning `brew cleanup mecab-ipadic`...\u001b[0m\n",
      "Disable this behaviour by setting HOMEBREW_NO_INSTALL_CLEANUP.\n",
      "Hide these hints with HOMEBREW_NO_ENV_HINTS (see `man brew`).\n"
     ]
    }
   ],
   "source": [
    "!brew install mecab\n",
    "!brew install mecab-ipadic\n"
   ]
  },
  {
   "cell_type": "code",
   "execution_count": 3,
   "id": "eff4c175-81ad-4958-addc-87830fed8024",
   "metadata": {},
   "outputs": [
    {
     "name": "stdout",
     "output_type": "stream",
     "text": [
      "Collecting mecab-python3\n",
      "  Downloading mecab_python3-1.0.8-cp311-cp311-macosx_10_9_x86_64.whl.metadata (6.1 kB)\n",
      "Downloading mecab_python3-1.0.8-cp311-cp311-macosx_10_9_x86_64.whl (513 kB)\n",
      "\u001b[2K   \u001b[90m━━━━━━━━━━━━━━━━━━━━━━━━━━━━━━━━━━━━━━━━\u001b[0m \u001b[32m513.1/513.1 kB\u001b[0m \u001b[31m7.0 MB/s\u001b[0m eta \u001b[36m0:00:00\u001b[0m:00:01\u001b[0m\n",
      "\u001b[?25hInstalling collected packages: mecab-python3\n",
      "Successfully installed mecab-python3-1.0.8\n",
      "Note: you may need to restart the kernel to use updated packages.\n"
     ]
    }
   ],
   "source": [
    "pip install mecab-python3"
   ]
  },
  {
   "cell_type": "code",
   "execution_count": 3,
   "id": "a98617a4-c9d7-4412-b9ca-c50c9e7f7931",
   "metadata": {},
   "outputs": [
    {
     "name": "stdout",
     "output_type": "stream",
     "text": [
      "こんにちは\t感動詞,*,*,*,*,*,こんにちは,コンニチハ,コンニチワ\n",
      "、\t記号,読点,*,*,*,*,、,、,、\n",
      "世界\t名詞,一般,*,*,*,*,世界,セカイ,セカイ\n",
      "！\t記号,一般,*,*,*,*,！,！,！\n",
      "EOS\n",
      "\n"
     ]
    }
   ],
   "source": [
    "import MeCab\n",
    "\n",
    "mecab = MeCab.Tagger()\n",
    "result = mecab.parse(\"こんにちは、世界！\")\n",
    "print(result)"
   ]
  },
  {
   "cell_type": "code",
   "execution_count": null,
   "id": "b87e3a9d-8823-47fa-9d55-e0623c32c29a",
   "metadata": {},
   "outputs": [],
   "source": []
  },
  {
   "cell_type": "code",
   "execution_count": 13,
   "id": "e6d56fb0-1a6d-48a0-891d-d5d68b89db31",
   "metadata": {},
   "outputs": [],
   "source": [
    "import xml.etree.ElementTree as ET\n",
    "import re\n",
    "import MeCab\n",
    "\n",
    "\n",
    "class Checker:\n",
    "    def __init__(self, ng_words_file='assets/input/ngword_list.csv'):\n",
    "        #self.xml_text = xml_text\n",
    "        self.ng_words_file = ng_words_file\n",
    "        self.mecab = MeCab.Tagger()\n",
    "\n",
    "    def xml_checker(self, xml_text):\n",
    "        try:\n",
    "            root = ET.fromstring(xml_text)\n",
    "\n",
    "            if root.tag != 'profile':\n",
    "                return False\n",
    "\n",
    "            expected_tags = {\n",
    "                'hashtags', 'big_five_chart', 'character', 'personality',\n",
    "                'hometown'\n",
    "            }\n",
    "\n",
    "            for child in root:\n",
    "                if child.tag not in expected_tags:\n",
    "                    return False\n",
    "                if child.tag == 'big_five_chart':\n",
    "                    expected_subtags = {'openness', 'conscientiousness',\n",
    "                                        'extraversion', 'agreeableness', 'neuroticism'}\n",
    "                    for subchild in child:\n",
    "                        if subchild.tag not in expected_subtags:\n",
    "                            return False\n",
    "\n",
    "            return True\n",
    "        except ET.ParseError:\n",
    "            return False\n",
    "\n",
    "    def xml_checker2(self, xml_text):\n",
    "        try:\n",
    "            root = ET.fromstring(xml_text)\n",
    "\n",
    "            if root.tag != 'profile':\n",
    "                return False\n",
    "\n",
    "            expected_tags = {\n",
    "                'occupation', 'favorite_things', 'hobby',\n",
    "                'skill', 'habit', 'dream', 'talent', 'motto', 'comment'\n",
    "            }\n",
    "\n",
    "            # XML内のタグ集める\n",
    "            found_tags = {child.tag for child in root}\n",
    "\n",
    "            # 期待されるすべてのタグが存在するかチェック\n",
    "            if not expected_tags.issubset(found_tags):\n",
    "                return False\n",
    "\n",
    "            for child in root:\n",
    "                if len(child.text or '') > 30:\n",
    "                    return False\n",
    "\n",
    "            return True\n",
    "        except ET.ParseError:\n",
    "            return False\n",
    "\n",
    "\n",
    "#ここから変換処理\n",
    "    def _full_to_half(self, text):\n",
    "\n",
    "        full_to_half_map = str.maketrans(\n",
    "            '０１２３４５６７８９ＡＢＣＤＥＦＧＨＩＪＫＬＭＮＯＰＱＲＳＴＵＶＷＸＹＺａｂｃｄｅｆｇｈｉｊｋｌｍｎｏｐｑｒｓｔｕｖｗｘｙｚ　'\n",
    "            'アイウエオカキクケコサシスセソタチツテトナニヌネノハヒフヘホマミムメモヤユヨラリルレロワヲンァィゥェォャュョッー',\n",
    "            '0123456789ABCDEFGHIJKLMNOPQRSTUVWXYZabcdefghijklmnopqrstuvwxyz '\n",
    "            'ｱｲｳｴｵｶｷｸｹｺｻｼｽｾｿﾀﾁﾂﾃﾄﾅﾆﾇﾈﾉﾊﾋﾌﾍﾎﾏﾐﾑﾒﾓﾔﾕﾖﾗﾘﾙﾚﾛﾜｦﾝｧｨｩｪｫｬｭｮｯｰ')\n",
    "        text = text.translate(full_to_half_map)\n",
    "\n",
    "        dakuten_chars = {\n",
    "            'ガ': 'ｶﾞ', 'ギ': 'ｷﾞ', 'グ': 'ｸﾞ', 'ゲ': 'ｹﾞ', 'ゴ': 'ｺﾞ',\n",
    "            'ザ': 'ｻﾞ', 'ジ': 'ｼﾞ', 'ズ': 'ｽﾞ', 'ゼ': 'ｾﾞ', 'ゾ': 'ｿﾞ',\n",
    "            'ダ': 'ﾀﾞ', 'ヂ': 'ﾁﾞ', 'ヅ': 'ﾂﾞ', 'デ': 'ﾃﾞ', 'ド': 'ﾄﾞ',\n",
    "            'バ': 'ﾊﾞ', 'ビ': 'ﾋﾞ', 'ブ': 'ﾌﾞ', 'ベ': 'ﾍﾞ', 'ボ': 'ﾎﾞ',\n",
    "            'パ': 'ﾊﾟ', 'ピ': 'ﾋﾟ', 'プ': 'ﾌﾟ', 'ペ': 'ﾍﾟ', 'ポ': 'ﾎﾟ',\n",
    "            'ヴ': 'ｳﾞ'\n",
    "        }\n",
    "        for full, half in dakuten_chars.items():\n",
    "            text = text.replace(full, half)\n",
    "        return text\n",
    "\n",
    "    def _half_to_full(self, text):\n",
    "\n",
    "        half_to_full_map = str.maketrans(\n",
    "            '0123456789ABCDEFGHIJKLMNOPQRSTUVWXYZabcdefghijklmnopqrstuvwxyz '\n",
    "            'ｱｲｳｴｵｶｷｸｹｺｻｼｽｾｿﾀﾁﾂﾃﾄﾅﾆﾇﾈﾉﾊﾋﾌﾍﾎﾏﾐﾑﾒﾓﾔﾕﾖﾗﾘﾙﾚﾛﾜｦﾝｧｨｩｪｫｬｭｮｯｰ',\n",
    "            '０１２３４５６７８９ＡＢＣＤＥＦＧＨＩＪＫＬＭＮＯＰＱＲＳＴＵＶＷＸＹＺａｂｃｄｅｆｇｈｉｊｋｌｍｎｏｐｑｒｓｔｕｖｗｘｙｚ　'\n",
    "            'アイウエオカキクケコサシスセソタチツテトナニヌネノハヒフヘホマミムメモヤユヨラリルレロワヲンァィゥェォャュョッー')\n",
    "        text = text.translate(half_to_full_map)\n",
    "\n",
    "        # 濁点付き、半濁点付きカタカナの半角を全角に変換\n",
    "        handakuten_chars = {\n",
    "            'ｶﾞ': 'ガ', 'ｷﾞ': 'ギ', 'ｸﾞ': 'グ', 'ｹﾞ': 'ゲ', 'ｺﾞ': 'ゴ',\n",
    "            'ｻﾞ': 'ザ', 'ｼﾞ': 'ジ', 'ｽﾞ': 'ズ', 'ｾﾞ': 'ゼ', 'ｿﾞ': 'ゾ',\n",
    "            'ﾀﾞ': 'ダ', 'ﾁﾞ': 'ヂ', 'ﾂﾞ': 'ヅ', 'ﾃﾞ': 'デ', 'ﾄﾞ': 'ド',\n",
    "            'ﾊﾞ': 'バ', 'ﾋﾞ': 'ビ', 'ﾌﾞ': 'ブ', 'ﾍﾞ': 'ベ', 'ﾎﾞ': 'ボ',\n",
    "            'ﾊﾟ': 'パ', 'ﾋﾟ': 'ピ', 'ﾌﾟ': 'プ', 'ﾍﾟ': 'ペ', 'ﾎﾟ': 'ポ',\n",
    "            'ｳﾞ': 'ヴ'\n",
    "        }\n",
    "        for half, full in handakuten_chars.items():\n",
    "            text = text.replace(half, full)\n",
    "        return text\n",
    "\n",
    "    def detect_ng_word(self, xml_text):\n",
    "        # 半角カタカナを全角に変換\n",
    "        xml_text = self._half_to_full(xml_text)\n",
    "\n",
    "        with open(self.ng_words_file, 'r') as file:\n",
    "            ng_words = {line.strip() for line in file}\n",
    "\n",
    "        node = self.mecab.parseToNode(xml_text)\n",
    "        while node:\n",
    "            word = node.surface\n",
    "            if word in ng_words:\n",
    "                print(word)\n",
    "                return False\n",
    "            node = node.next\n",
    "        return True\n",
    "\n",
    "\n",
    "\n"
   ]
  },
  {
   "cell_type": "code",
   "execution_count": 19,
   "id": "b77a45d8-f972-4da6-8dd8-744708d3ee56",
   "metadata": {},
   "outputs": [
    {
     "name": "stdout",
     "output_type": "stream",
     "text": [
      "ジュース\n",
      "False\n"
     ]
    }
   ],
   "source": [
    "checker = Checker()\n",
    "\n",
    "# NGワード検出\n",
    "ng_word_result = checker.detect_ng_word('＃ジュース　＃ランチ大好きあああああああああああああああああああああああああああああああああああああああああああああああああああああああああああああああああああああああああああああああ')\n",
    "print(ng_word_result)\n",
    "# XMLチェッカーの使用\n",
    "xml_checker_result = checker.xml_checker('<profile><hobby>テニスうううううううううううううううううううううううううううううううううううううううううううううううううう</hobby></profile>')"
   ]
  },
  {
   "cell_type": "code",
   "execution_count": null,
   "id": "6309d2ed-6456-4220-b6d1-2374a91a2ee5",
   "metadata": {},
   "outputs": [],
   "source": []
  },
  {
   "cell_type": "code",
   "execution_count": null,
   "id": "a26166ba-3f83-4026-a122-88cbd01c830c",
   "metadata": {},
   "outputs": [],
   "source": []
  }
 ],
 "metadata": {
  "kernelspec": {
   "display_name": "Python 3 (ipykernel)",
   "language": "python",
   "name": "python3"
  },
  "language_info": {
   "codemirror_mode": {
    "name": "ipython",
    "version": 3
   },
   "file_extension": ".py",
   "mimetype": "text/x-python",
   "name": "python",
   "nbconvert_exporter": "python",
   "pygments_lexer": "ipython3",
   "version": "3.11.6"
  }
 },
 "nbformat": 4,
 "nbformat_minor": 5
}
