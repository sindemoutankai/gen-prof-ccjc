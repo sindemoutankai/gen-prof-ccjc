{
 "cells": [
  {
   "cell_type": "code",
   "execution_count": 3,
   "id": "cc6ecc26-7604-43d0-a413-63d7036c502e",
   "metadata": {},
   "outputs": [],
   "source": [
    "import xml.etree.ElementTree as ET\n",
    "import csv\n",
    "import os\n"
   ]
  },
  {
   "cell_type": "code",
   "execution_count": 10,
   "id": "7d564f6b-6944-4881-b08a-1946552caafe",
   "metadata": {},
   "outputs": [],
   "source": [
    "def parse_xml_to_csv(xml_folder, csv_file):\n",
    "    # CSVファイルのヘッダー（カテゴリとファイル名の列を追加）\n",
    "    headers = ['category', 'filename', 'character', 'openness', 'conscientiousness', \n",
    "               'extraversion', 'agreeableness', 'neuroticism', 'hashtags', 'personality', 'hometown', 'occupation', \n",
    "               'favorite_things', 'hobby', 'skill', 'habit', 'dream', \n",
    "               'talent', 'motto', 'comment']\n",
    "\n",
    "    with open(csv_file, 'w', newline='', encoding='utf-8') as csvfile:\n",
    "        writer = csv.DictWriter(csvfile, fieldnames=headers)\n",
    "        writer.writeheader()\n",
    "\n",
    "        # 指定されたフォルダ内の全サブディレクトリを処理\n",
    "        for root, dirs, files in os.walk(xml_folder):\n",
    "            for filename in files:\n",
    "                if filename.endswith('.xml'):\n",
    "                    full_path = os.path.join(root, filename)\n",
    "                    tree = ET.parse(full_path)\n",
    "                    xml_root = tree.getroot()\n",
    "\n",
    "                    # XMLデータから情報を抽出し、必要に応じて再配置\n",
    "                    data = {'category': os.path.basename(root), 'filename': filename}\n",
    "                    for child in xml_root:\n",
    "                        if child.tag == 'big_five_chart':\n",
    "                            big_five = {grandchild.tag: grandchild.text for grandchild in child}\n",
    "                            data.update(big_five)\n",
    "                        else:\n",
    "                            data[child.tag] = child.text\n",
    "\n",
    "                    writer.writerow(data)"
   ]
  },
  {
   "cell_type": "code",
   "execution_count": 11,
   "id": "a120b920-e249-42f4-9b57-8d30de328777",
   "metadata": {},
   "outputs": [
    {
     "name": "stdout",
     "output_type": "stream",
     "text": [
      "2024/01/22/11:08:09\n"
     ]
    }
   ],
   "source": [
    "import time\n",
    "current_time = time.time()\n",
    "local_time = time.localtime(current_time)\n",
    "_time = time.strftime(\"%Y/%m/%d/%H:%M:%S\", local_time)\n",
    "\n",
    "print(_time)\n",
    "# この関数を実行して、XMLファイルをCSVに変換\n",
    "xml_folder = '/Users/yokoyamakai/Desktop/kari'  # XMLファイルが保存されているフォルダのパス\n",
    "csv_file = '/Users/yokoyamakai/Desktop/kari/ccjc-filtered-renamed-ver1.2.csv'  # 出力するCSVファイルの名前\n",
    "\n",
    "parse_xml_to_csv(xml_folder, csv_file)"
   ]
  },
  {
   "cell_type": "code",
   "execution_count": 9,
   "id": "ee988673-11ec-4154-8b34-fd500456af7d",
   "metadata": {},
   "outputs": [],
   "source": [
    "def parse_xml_to_csv(xml_folder, csv_file):\n",
    "    # CSVファイルのヘッダー（カテゴリとファイル名の列を追加）\n",
    "    headers = ['hometown', 'occupation', \n",
    "               'favorite_things', 'hobby', 'skill', 'habit', 'dream', \n",
    "            'talent', 'motto', 'comment', 'filename', 'extraversion', 'openness', 'character', 'conscientiousness', 'personality', 'category', 'hashtags', 'agreeableness', 'neuroticism', 'previous_filename']\n",
    "\n",
    "    with open(csv_file, 'w', newline='', encoding='utf-8') as csvfile:\n",
    "        writer = csv.DictWriter(csvfile, fieldnames=headers)\n",
    "        writer.writeheader()\n",
    "\n",
    "        # 指定されたフォルダ内の全サブディレクトリを処理\n",
    "        for root, dirs, files in os.walk(xml_folder):\n",
    "            for filename in files:\n",
    "                if filename.endswith('.xml'):\n",
    "                    full_path = os.path.join(root, filename)\n",
    "                    tree = ET.parse(full_path)\n",
    "                    xml_root = tree.getroot()\n",
    "\n",
    "                    # XMLデータから情報を抽出し、必要に応じて再配置\n",
    "                    data = {'category': os.path.basename(root), 'filename': filename}\n",
    "                    for child in xml_root:\n",
    "                        if child.tag == 'big_five_chart':\n",
    "                            big_five = {grandchild.tag: grandchild.text for grandchild in child}\n",
    "                            data.update(big_five)\n",
    "                        else:\n",
    "                            data[child.tag] = child.text\n",
    "\n",
    "                    writer.writerow(data)\n",
    "\n",
    "\n",
    "\n"
   ]
  },
  {
   "cell_type": "code",
   "execution_count": 10,
   "id": "a9d46d2c-1fb9-4ab3-b0d9-36582b1cadba",
   "metadata": {},
   "outputs": [],
   "source": [
    "xml_folder = '/Users/yokoyamakai/240131_ccjcoutput/240131提出用'  # XMLファイルが保存されているフォルダのパス\n",
    "csv_file = '/Users/yokoyamakai/240131_ccjcoutput/240131提出用.csv'  # 出力するCSVファイルの名前\n",
    "\n",
    "parse_xml_to_csv(xml_folder, csv_file)"
   ]
  },
  {
   "cell_type": "code",
   "execution_count": null,
   "id": "eb125a70-6732-449f-98c3-120c81ee56e0",
   "metadata": {},
   "outputs": [],
   "source": []
  }
 ],
 "metadata": {
  "kernelspec": {
   "display_name": "Python 3 (ipykernel)",
   "language": "python",
   "name": "python3"
  },
  "language_info": {
   "codemirror_mode": {
    "name": "ipython",
    "version": 3
   },
   "file_extension": ".py",
   "mimetype": "text/x-python",
   "name": "python",
   "nbconvert_exporter": "python",
   "pygments_lexer": "ipython3",
   "version": "3.11.6"
  }
 },
 "nbformat": 4,
 "nbformat_minor": 5
}
