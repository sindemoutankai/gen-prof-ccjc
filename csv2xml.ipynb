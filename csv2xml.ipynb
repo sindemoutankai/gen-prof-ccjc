{
 "cells": [
  {
   "cell_type": "code",
   "execution_count": 5,
   "id": "05d4469b-3a96-4775-ab26-c93811a69dba",
   "metadata": {},
   "outputs": [],
   "source": [
    "csv_file_path = '/Users/yokoyamakai/Desktop/20240119_ZERO_prof.csv' \n",
    "\n",
    "output_directory = '/Users/yokoyamakai/240131_ccjcoutput/1_200'"
   ]
  },
  {
   "cell_type": "code",
   "execution_count": 6,
   "id": "27b5f371-61bd-4150-8c5e-cdd2716547d4",
   "metadata": {},
   "outputs": [
    {
     "name": "stdout",
     "output_type": "stream",
     "text": [
      "XMLファイルが生成されました: /Users/yokoyamakai/240131_ccjcoutput/1_200\n"
     ]
    }
   ],
   "source": [
    "import csv\n",
    "import xml.etree.ElementTree as ET\n",
    "import os\n",
    "from xml.dom.minidom import parseString\n",
    "\n",
    "\n",
    "# 出力ディレクトリが存在しない場合は作成\n",
    "if not os.path.exists(output_directory):\n",
    "    os.makedirs(output_directory)\n",
    "\n",
    "# CSVファイルを読み込む\n",
    "with open(csv_file_path, mode='r', encoding='shift_jis') as csv_file:\n",
    "    csv_reader = csv.DictReader(csv_file)\n",
    "\n",
    "    # 各行ごとにXMLファイルを生成\n",
    "    for i, row in enumerate(csv_reader, start=1):\n",
    "        profile = ET.Element('profile')\n",
    "\n",
    "        for key in row:\n",
    "            element = ET.SubElement(profile, key)\n",
    "            element.text = row[key]\n",
    "\n",
    "        tree = ET.ElementTree(profile)\n",
    "\n",
    "        # minidomを使ってフォーマット\n",
    "        xml_string = ET.tostring(profile, 'utf-8')\n",
    "        formatted_xml = parseString(xml_string).toprettyxml(indent=\"  \")\n",
    "\n",
    "        # ファイル名を設定（例: 00001.xml）\n",
    "        file_name = f\"{i:05}.xml\"\n",
    "        output_path = os.path.join(output_directory, file_name)\n",
    "\n",
    "        # フォーマットされたXMLをファイルに書き込む\n",
    "        with open(output_path, 'w', encoding='utf-8') as xml_file:\n",
    "            xml_file.write(formatted_xml)\n",
    "\n",
    "print(f'XMLファイルが生成されました: {output_directory}')\n",
    "\n"
   ]
  },
  {
   "cell_type": "code",
   "execution_count": null,
   "id": "58fcc3a6-d29b-414e-b1b3-eaaef651567e",
   "metadata": {},
   "outputs": [],
   "source": []
  },
  {
   "cell_type": "code",
   "execution_count": null,
   "id": "5a0e5433-d389-45c4-9e76-13b3b58d8946",
   "metadata": {},
   "outputs": [],
   "source": []
  }
 ],
 "metadata": {
  "kernelspec": {
   "display_name": "Python 3 (ipykernel)",
   "language": "python",
   "name": "python3"
  },
  "language_info": {
   "codemirror_mode": {
    "name": "ipython",
    "version": 3
   },
   "file_extension": ".py",
   "mimetype": "text/x-python",
   "name": "python",
   "nbconvert_exporter": "python",
   "pygments_lexer": "ipython3",
   "version": "3.11.6"
  }
 },
 "nbformat": 4,
 "nbformat_minor": 5
}
