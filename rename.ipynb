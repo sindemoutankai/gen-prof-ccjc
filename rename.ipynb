{
 "cells": [
  {
   "cell_type": "code",
   "execution_count": 7,
   "id": "1bf3eee7-3b5a-476f-b6ef-8a95e5951351",
   "metadata": {},
   "outputs": [],
   "source": [
    "directory_path = \"/Users/yokoyamakai/240131_ccjcoutput/1_200-hankaku\""
   ]
  },
  {
   "cell_type": "code",
   "execution_count": 9,
   "id": "cb90554d-5442-4101-8e65-c7c1a9f4ac41",
   "metadata": {},
   "outputs": [],
   "source": [
    "import os\n",
    "\n",
    "def rename_xml_files(directory, start_number=1):\n",
    "    # 指定されたディレクトリ内の全XMLファイルを取得\n",
    "    xml_files = [f for f in os.listdir(directory) if f.endswith('.xml')]\n",
    "\n",
    "    # ファイル名をソート\n",
    "    xml_files.sort()\n",
    "\n",
    "    # ファイル名を再割り当てしてリネーム\n",
    "    for index, filename in enumerate(xml_files, start=start_number):\n",
    "        new_filename = f\"{index:05}.xml\"\n",
    "        os.rename(os.path.join(directory, filename), os.path.join(directory, new_filename))\n",
    "\n",
    "# この関数を実行する前に、適切なパスを設定してください\n",
    "rename_xml_files(directory_path)\n"
   ]
  },
  {
   "cell_type": "code",
   "execution_count": null,
   "id": "396fbc7f-1f23-48e2-9c12-c1f4bdf94364",
   "metadata": {},
   "outputs": [],
   "source": []
  }
 ],
 "metadata": {
  "kernelspec": {
   "display_name": "Python 3 (ipykernel)",
   "language": "python",
   "name": "python3"
  },
  "language_info": {
   "codemirror_mode": {
    "name": "ipython",
    "version": 3
   },
   "file_extension": ".py",
   "mimetype": "text/x-python",
   "name": "python",
   "nbconvert_exporter": "python",
   "pygments_lexer": "ipython3",
   "version": "3.11.6"
  }
 },
 "nbformat": 4,
 "nbformat_minor": 5
}
