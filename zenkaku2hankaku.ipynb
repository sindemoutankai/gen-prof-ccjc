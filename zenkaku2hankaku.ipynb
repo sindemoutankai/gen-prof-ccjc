{
 "cells": [
  {
   "cell_type": "code",
   "execution_count": 3,
   "id": "03751429-dddc-4ddd-91bd-4db8436d0a0c",
   "metadata": {},
   "outputs": [
    {
     "name": "stdout",
     "output_type": "stream",
     "text": [
      "Requirement already satisfied: mojimoji in /Users/yokoyamakai/ccjc/lib/python3.11/site-packages (0.0.13)\n"
     ]
    }
   ],
   "source": [
    "!pip install mojimoji"
   ]
  },
  {
   "cell_type": "code",
   "execution_count": 9,
   "id": "2df8bd82-76b7-4c46-aa09-32e0cedf792d",
   "metadata": {},
   "outputs": [],
   "source": [
    "import os\n",
    "import xml.etree.ElementTree as ET\n",
    "import unicodedata\n",
    "import mojimoji\n",
    "\n",
    "def convert_katakana_to_halfwidth(text):\n",
    "    return mojimoji.zen_to_han(text)\n",
    "    #return ''.join([unicodedata.normalize('NFKC', char) if 'ァ' <= char <= 'ヶ' else char for char in text])\n",
    "\n",
    "def process_xml_file(file_path, output_folder):\n",
    "    tree = ET.parse(file_path)\n",
    "    root = tree.getroot()\n",
    "\n",
    "    for elem in tree.iter():\n",
    "        if elem.text:\n",
    "            elem.text = convert_katakana_to_halfwidth(elem.text)\n",
    "        if elem.tail:\n",
    "            elem.tail = convert_katakana_to_halfwidth(elem.tail)\n",
    "\n",
    "    new_file_name = os.path.basename(file_path).replace('.xml', '_hankaku.xml')\n",
    "    tree.write(os.path.join(output_folder, new_file_name))\n",
    "\n",
    "input_folder = '/Users/yokoyamakai/240131_ccjcoutput/goodrating'\n",
    "output_folder = '/Users/yokoyamakai/240131_ccjcoutput/goodrating-hankaku'\n",
    "\n",
    "if not os.path.exists(output_folder):\n",
    "    os.makedirs(output_folder)\n",
    "\n",
    "for filename in os.listdir(input_folder):\n",
    "    if filename.endswith('.xml'):\n",
    "        process_xml_file(os.path.join(input_folder, filename), output_folder)\n"
   ]
  },
  {
   "cell_type": "code",
   "execution_count": 9,
   "id": "acaff569-82cd-421c-8c1c-e2d2003176e0",
   "metadata": {},
   "outputs": [],
   "source": [
    "import os\n",
    "import xml.etree.ElementTree as ET\n",
    "import unicodedata\n",
    "from xml.sax.saxutils import unescape\n",
    "import mojimoji\n",
    "\n",
    "def convert_katakana_to_halfwidth(text):\n",
    "    return mojimoji.zen_to_han(text)\n",
    "\n",
    "def process_xml_file(file_path, output_folder):\n",
    "    parser = ET.XMLParser(encoding='utf-8')\n",
    "    tree = ET.parse(file_path, parser=parser)\n",
    "    root = tree.getroot()\n",
    "\n",
    "    for elem in tree.iter():\n",
    "        if elem.text:\n",
    "            elem.text = unescape(convert_katakana_to_halfwidth(elem.text))\n",
    "        if elem.tail:\n",
    "            elem.tail = unescape(convert_katakana_to_halfwidth(elem.tail))\n",
    "\n",
    "    new_file_name = os.path.basename(file_path).replace('.xml', '_hankaku.xml')\n",
    "    tree.write(os.path.join(output_folder, new_file_name), encoding='utf-8')\n",
    "\n",
    "input_folder = '/Users/yokoyamakai/240131_ccjcoutput/1_200'\n",
    "output_folder = '/Users/yokoyamakai/240131_ccjcoutput/1_200-hankaku'\n",
    "\n",
    "if not os.path.exists(output_folder):\n",
    "    os.makedirs(output_folder)\n",
    "\n",
    "for filename in os.listdir(input_folder):\n",
    "    if filename.endswith('.xml'):\n",
    "        process_xml_file(os.path.join(input_folder, filename), output_folder)\n"
   ]
  },
  {
   "cell_type": "code",
   "execution_count": 10,
   "id": "f887a37f-f7e4-4782-919f-75b76743adb9",
   "metadata": {},
   "outputs": [
    {
     "data": {
      "text/plain": [
       "'横rｼｸ'"
      ]
     },
     "execution_count": 10,
     "metadata": {},
     "output_type": "execute_result"
    }
   ],
   "source": [
    "convert_katakana_to_halfwidth('横rシク')"
   ]
  },
  {
   "cell_type": "code",
   "execution_count": null,
   "id": "04dbb8a7-5464-48c7-8710-e2c27c8fcb07",
   "metadata": {},
   "outputs": [],
   "source": []
  }
 ],
 "metadata": {
  "kernelspec": {
   "display_name": "Python 3 (ipykernel)",
   "language": "python",
   "name": "python3"
  },
  "language_info": {
   "codemirror_mode": {
    "name": "ipython",
    "version": 3
   },
   "file_extension": ".py",
   "mimetype": "text/x-python",
   "name": "python",
   "nbconvert_exporter": "python",
   "pygments_lexer": "ipython3",
   "version": "3.11.6"
  }
 },
 "nbformat": 4,
 "nbformat_minor": 5
}
